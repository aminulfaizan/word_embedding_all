{
 "cells": [
  {
   "cell_type": "code",
   "execution_count": 1,
   "id": "41704a6a",
   "metadata": {},
   "outputs": [],
   "source": [
    "import pandas as pd\n",
    "import multiprocessing\n",
    "import numpy as np\n",
    "import json\n",
    "import string\n",
    "import re\n",
    "from pprint import pprint\n",
    "import pickle\n",
    "import fasttext"
   ]
  },
  {
   "cell_type": "code",
   "execution_count": 2,
   "id": "3b67cde0",
   "metadata": {},
   "outputs": [
    {
     "data": {
      "text/plain": [
       "str"
      ]
     },
     "execution_count": 2,
     "metadata": {},
     "output_type": "execute_result"
    }
   ],
   "source": [
    "corpus = 'processed_data_text.txt'\n",
    "type(corpus)"
   ]
  },
  {
   "cell_type": "markdown",
   "id": "2ea4ad54",
   "metadata": {},
   "source": [
    "# fasttext skipgram dim100_min5_ws_5"
   ]
  },
  {
   "cell_type": "code",
   "execution_count": 7,
   "id": "03046845",
   "metadata": {},
   "outputs": [
    {
     "name": "stdout",
     "output_type": "stream",
     "text": [
      "Training time: 12814.76 seconds\n"
     ]
    }
   ],
   "source": [
    "import fasttext\n",
    "import time\n",
    "\n",
    "# Start the timer\n",
    "start_time = time.time()\n",
    "\n",
    "# Train the FastText model\n",
    "model = fasttext.train_unsupervised(corpus,\n",
    "                model='skipgram',\n",
    "                minn=2,\n",
    "                maxn=6,\n",
    "                dim=100,\n",
    "                ws=5,\n",
    "                minCount=10,\n",
    "                neg=5,\n",
    "                thread=4)\n",
    "\n",
    "# Stop the timer and calculate the training time\n",
    "end_time = time.time()\n",
    "training_time = end_time - start_time\n",
    "print(f\"Training time: {training_time:.2f} seconds\")\n",
    "\n",
    "# Save the model\n",
    "model.save_model(\"fasttext_model100min10.bin\")\n"
   ]
  },
  {
   "cell_type": "markdown",
   "id": "8e12cc55",
   "metadata": {},
   "source": [
    "# fasttext _cbow_dim100_min5_ws_5"
   ]
  },
  {
   "cell_type": "code",
   "execution_count": 3,
   "id": "9a4ad391",
   "metadata": {},
   "outputs": [
    {
     "name": "stdout",
     "output_type": "stream",
     "text": [
      "Training time: 6831.27 seconds\n"
     ]
    }
   ],
   "source": [
    "import fasttext\n",
    "import time\n",
    "\n",
    "# Start the timer\n",
    "start_time = time.time()\n",
    "\n",
    "# Train the FastText model\n",
    "model = fasttext.train_unsupervised(corpus,\n",
    "                model='cbow',\n",
    "                minn=2,\n",
    "                maxn=6,\n",
    "                dim=100,\n",
    "                ws=5,\n",
    "                minCount=10,\n",
    "                neg=5,\n",
    "                thread=4)\n",
    "\n",
    "# Stop the timer and calculate the training time\n",
    "end_time = time.time()\n",
    "training_time = end_time - start_time\n",
    "print(f\"Training time: {training_time:.2f} seconds\")\n",
    "\n",
    "# Save the model\n",
    "model.save_model(\"cbow_fasttext_model100min10.bin\")\n"
   ]
  },
  {
   "cell_type": "markdown",
   "id": "2ac930c5",
   "metadata": {},
   "source": [
    "# fasttext _cbow_dim300_min10_ws_5"
   ]
  },
  {
   "cell_type": "code",
   "execution_count": 24,
   "id": "b2e4e15b",
   "metadata": {},
   "outputs": [
    {
     "name": "stdout",
     "output_type": "stream",
     "text": [
      "Training time: 16628.26 seconds\n"
     ]
    }
   ],
   "source": [
    "import time\n",
    "\n",
    "# Start the timer\n",
    "start_time = time.time()\n",
    "\n",
    "# Train the FastText model\n",
    "model = fasttext.train_unsupervised(corpus,\n",
    "                model='cbow',\n",
    "                minn=2,\n",
    "                maxn=6,\n",
    "                dim=300,\n",
    "                ws=5,\n",
    "                minCount=10,\n",
    "                neg=5,\n",
    "                thread=4)\n",
    "\n",
    "# Stop the timer and calculate the training time\n",
    "end_time = time.time()\n",
    "training_time = end_time - start_time\n",
    "print(f\"Training time: {training_time:.2f} seconds\")\n",
    "\n",
    "# Save the model\n",
    "model.save_model(\"cbow_fasttext_model300_min10.bin\")\n"
   ]
  },
  {
   "cell_type": "markdown",
   "id": "03096794",
   "metadata": {},
   "source": [
    "# fasttext_cbow_dim100_min5_ws5"
   ]
  },
  {
   "cell_type": "code",
   "execution_count": 3,
   "id": "d30c7df7",
   "metadata": {},
   "outputs": [
    {
     "name": "stdout",
     "output_type": "stream",
     "text": [
      "Training time: 7119.37 seconds\n"
     ]
    }
   ],
   "source": [
    "import time\n",
    "# Start the timer\n",
    "start_time = time.time()\n",
    "\n",
    "# Train the FastText model\n",
    "model = fasttext.train_unsupervised(corpus,\n",
    "                model='cbow',\n",
    "                minn=2,\n",
    "                maxn=6,\n",
    "                dim=100,\n",
    "                ws=5,\n",
    "                minCount=5,\n",
    "                neg=5,\n",
    "                thread=4)\n",
    "\n",
    "# Stop the timer and calculate the training time\n",
    "end_time = time.time()\n",
    "training_time = end_time - start_time\n",
    "print(f\"Training time: {training_time:.2f} seconds\")\n",
    "\n",
    "# Save the model\n",
    "model.save_model(\"cbow_fasttext_model100_min5_w5.bin\")\n"
   ]
  },
  {
   "cell_type": "markdown",
   "id": "149b6bb3",
   "metadata": {},
   "source": [
    "# fasttext_cbow_dim300_min5_ws5 "
   ]
  },
  {
   "cell_type": "code",
   "execution_count": 4,
   "id": "273a7d61",
   "metadata": {},
   "outputs": [
    {
     "name": "stdout",
     "output_type": "stream",
     "text": [
      "Training time: 17169.63 seconds\n"
     ]
    }
   ],
   "source": [
    "import time\n",
    "# Start the timer\n",
    "start_time = time.time()\n",
    "\n",
    "# Train the FastText model\n",
    "model = fasttext.train_unsupervised(corpus,\n",
    "                model='cbow',\n",
    "                minn=2,\n",
    "                maxn=6,\n",
    "                dim=300,\n",
    "                ws=5,\n",
    "                minCount=5,\n",
    "                neg=5,\n",
    "                thread=4)\n",
    "\n",
    "# Stop the timer and calculate the training time\n",
    "end_time = time.time()\n",
    "training_time = end_time - start_time\n",
    "print(f\"Training time: {training_time:.2f} seconds\")\n",
    "\n",
    "# Save the model\n",
    "model.save_model(\"cbow_fasttext_model300_min5_w5.bin\")\n"
   ]
  },
  {
   "cell_type": "code",
   "execution_count": 10,
   "id": "e90e0276",
   "metadata": {},
   "outputs": [
    {
     "data": {
      "text/plain": [
       "[(0.7119709849357605, 'প্র্রধান'),\n",
       " (0.6511374115943909, 'অতিথি'),\n",
       " (0.6486805081367493, 'সহপ্রধান'),\n",
       " (0.6420673727989197, 'বক্তব্যে'),\n",
       " (0.6400879621505737, 'অনুষ্ঠানে'),\n",
       " (0.636186420917511, 'অতিথির'),\n",
       " (0.6191444993019104, 'কর্মকর্তাপ্রধান'),\n",
       " (0.6165856719017029, 'আলোচক'),\n",
       " (0.6160701513290405, 'প্রাধান'),\n",
       " (0.6137754917144775, 'উপপ্রধান')]"
      ]
     },
     "execution_count": 10,
     "metadata": {},
     "output_type": "execute_result"
    }
   ],
   "source": [
    "model.get_nearest_neighbors('প্রধান', k=10)"
   ]
  },
  {
   "cell_type": "code",
   "execution_count": 8,
   "id": "941e9b19",
   "metadata": {},
   "outputs": [
    {
     "data": {
      "text/plain": [
       "[(0.8000667095184326, 'ছেলে'),\n",
       " (0.7231993675231934, 'চাচা'),\n",
       " (0.715573251247406, 'মেঝো'),\n",
       " (0.7146378755569458, 'বাবা'),\n",
       " (0.7046827077865601, 'মামা')]"
      ]
     },
     "execution_count": 8,
     "metadata": {},
     "output_type": "execute_result"
    }
   ],
   "source": [
    "model.get_analogies(\"রাজা\",\"রানি\", \"মেয়ে\", k=5)"
   ]
  },
  {
   "cell_type": "code",
   "execution_count": 9,
   "id": "42a39fae",
   "metadata": {},
   "outputs": [
    {
     "data": {
      "text/plain": [
       "[(0.6765425801277161, 'পাকিস্তান'),\n",
       " (0.6751669049263, 'ইসলামাবাদকে'),\n",
       " (0.6577770113945007, 'পাকিস্তানকে')]"
      ]
     },
     "execution_count": 9,
     "metadata": {},
     "output_type": "execute_result"
    }
   ],
   "source": [
    "model.get_analogies(\"বাংলাদেশ\",\"ঢাকা\", \"ইসলামাবাদ\", k=3)"
   ]
  },
  {
   "cell_type": "code",
   "execution_count": 23,
   "id": "e38b9c7e",
   "metadata": {},
   "outputs": [
    {
     "data": {
      "text/plain": [
       "[(0.8179323673248291, 'মেয়ে'),\n",
       " (0.814835786819458, 'স্ত্রী'),\n",
       " (0.748225212097168, 'মামাতো'),\n",
       " (0.7461735606193542, 'স্কুলপাড়ার'),\n",
       " (0.7448158264160156, 'সৎছেলে')]"
      ]
     },
     "execution_count": 23,
     "metadata": {},
     "output_type": "execute_result"
    }
   ],
   "source": [
    "model.get_analogies(\"শিক্ষিকা\",\"শিক্ষক\", \"ছেলে\", k=5)"
   ]
  },
  {
   "cell_type": "code",
   "execution_count": null,
   "id": "24ffdf13",
   "metadata": {},
   "outputs": [],
   "source": []
  }
 ],
 "metadata": {
  "kernelspec": {
   "display_name": "Python 3 (ipykernel)",
   "language": "python",
   "name": "python3"
  },
  "language_info": {
   "codemirror_mode": {
    "name": "ipython",
    "version": 3
   },
   "file_extension": ".py",
   "mimetype": "text/x-python",
   "name": "python",
   "nbconvert_exporter": "python",
   "pygments_lexer": "ipython3",
   "version": "3.9.16"
  }
 },
 "nbformat": 4,
 "nbformat_minor": 5
}
