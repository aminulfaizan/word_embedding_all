{
 "cells": [
  {
   "cell_type": "code",
   "execution_count": 2,
   "id": "f7908271",
   "metadata": {},
   "outputs": [],
   "source": [
    "import pandas as pd\n",
    "import multiprocessing\n",
    "import numpy as np\n",
    "import json\n",
    "import string\n",
    "import re\n",
    "from pprint import pprint\n",
    "import pickle\n",
    "import fasttext"
   ]
  },
  {
   "cell_type": "code",
   "execution_count": 3,
   "id": "43bbc153",
   "metadata": {},
   "outputs": [
    {
     "data": {
      "text/plain": [
       "str"
      ]
     },
     "execution_count": 3,
     "metadata": {},
     "output_type": "execute_result"
    }
   ],
   "source": [
    "corpus = 'processed_data_text.txt'\n",
    "type(corpus)"
   ]
  },
  {
   "cell_type": "code",
   "execution_count": 4,
   "id": "0d51424e",
   "metadata": {},
   "outputs": [
    {
     "name": "stdout",
     "output_type": "stream",
     "text": [
      "Training time: 22054.39 seconds\n"
     ]
    }
   ],
   "source": [
    "import time\n",
    "\n",
    "# Start the timer\n",
    "start_time = time.time()\n",
    "\n",
    "# Train the FastText model\n",
    "model = fasttext.train_unsupervised(corpus,\n",
    "                model='skipgram',\n",
    "                minn=2,\n",
    "                maxn=6,\n",
    "                dim=300,\n",
    "                ws=5,\n",
    "                minCount=10,\n",
    "                neg=5,\n",
    "                thread=4)\n",
    "\n",
    "# Stop the timer and calculate the training time\n",
    "end_time = time.time()\n",
    "training_time = end_time - start_time\n",
    "print(f\"Training time: {training_time:.2f} seconds\")\n",
    "\n",
    "# Save the model\n",
    "model.save_model(\"fasttext_modeld300_min10.bin\")\n"
   ]
  },
  {
   "cell_type": "code",
   "execution_count": null,
   "id": "c5e2f267",
   "metadata": {},
   "outputs": [],
   "source": []
  },
  {
   "cell_type": "code",
   "execution_count": 6,
   "id": "62d4c0b7",
   "metadata": {},
   "outputs": [
    {
     "data": {
      "text/plain": [
       "[(0.6430476903915405, 'প্র্রধান'),\n",
       " (0.5716894268989563, 'সহপ্রধান'),\n",
       " (0.5420616865158081, 'প্রধন'),\n",
       " (0.5414380431175232, 'কর্মকর্তাপ্রধান'),\n",
       " (0.5324597358703613, 'প্রধানও'),\n",
       " (0.522942841053009, 'বলেনপ্রধান'),\n",
       " (0.5167521238327026, 'বক্তব্যে'),\n",
       " (0.5145146250724792, 'প্রধানই'),\n",
       " (0.5136478543281555, 'সংস্থাপ্রধান'),\n",
       " (0.5099334716796875, 'প্রধানের')]"
      ]
     },
     "execution_count": 6,
     "metadata": {},
     "output_type": "execute_result"
    }
   ],
   "source": [
    "model.get_nearest_neighbors('প্রধান', k=10)"
   ]
  },
  {
   "cell_type": "code",
   "execution_count": null,
   "id": "6147a064",
   "metadata": {},
   "outputs": [],
   "source": []
  },
  {
   "cell_type": "code",
   "execution_count": 7,
   "id": "4dd1aed1",
   "metadata": {},
   "outputs": [
    {
     "data": {
      "text/plain": [
       "[(0.677087664604187, 'ছেলে'),\n",
       " (0.5874028205871582, 'বাবা'),\n",
       " (0.5805161595344543, 'ছেলেক'),\n",
       " (0.5785549879074097, 'চাচা'),\n",
       " (0.5622828602790833, 'জামাই')]"
      ]
     },
     "execution_count": 7,
     "metadata": {},
     "output_type": "execute_result"
    }
   ],
   "source": [
    "model.get_analogies(\"রাজা\",\"রানি\", \"মেয়ে\", k=5)"
   ]
  },
  {
   "cell_type": "code",
   "execution_count": 9,
   "id": "f86e228f",
   "metadata": {},
   "outputs": [
    {
     "data": {
      "text/plain": [
       "[(0.6305328011512756, 'ইসলামাবাদকে'),\n",
       " (0.5988883972167969, 'দিল্লিইসলামাবাদ'),\n",
       " (0.5934303402900696, 'ইসলামাবাদও'),\n",
       " (0.5863472819328308, 'ইসলামাবাদের'),\n",
       " (0.5801690816879272, 'পাকিস্তান'),\n",
       " (0.5756112337112427, 'পাকিস্তানকে'),\n",
       " (0.5685949921607971, 'পাকিস্তানও'),\n",
       " (0.5575827360153198, 'পাকিস্তানকেই'),\n",
       " (0.555244505405426, 'ইসলামাবাদে'),\n",
       " (0.5492173433303833, 'পাকিস্তানের')]"
      ]
     },
     "execution_count": 9,
     "metadata": {},
     "output_type": "execute_result"
    }
   ],
   "source": [
    "model.get_analogies(\"বাংলাদেশ\",\"ঢাকা\", \"ইসলামাবাদ\", k=10)"
   ]
  },
  {
   "cell_type": "code",
   "execution_count": 10,
   "id": "f92cbafc",
   "metadata": {},
   "outputs": [
    {
     "data": {
      "text/plain": [
       "[(0.7533585429191589, 'স্ত্রী'),\n",
       " (0.7520911693572998, 'মেয়ে'),\n",
       " (0.6480717062950134, 'স্বামী'),\n",
       " (0.6446570158004761, 'ছেলের'),\n",
       " (0.6434483528137207, 'সৎছেলে')]"
      ]
     },
     "execution_count": 10,
     "metadata": {},
     "output_type": "execute_result"
    }
   ],
   "source": [
    "model.get_analogies(\"শিক্ষিকা\",\"শিক্ষক\", \"ছেলে\", k=5)"
   ]
  },
  {
   "cell_type": "code",
   "execution_count": null,
   "id": "ce3e7000",
   "metadata": {},
   "outputs": [],
   "source": []
  }
 ],
 "metadata": {
  "kernelspec": {
   "display_name": "Python 3 (ipykernel)",
   "language": "python",
   "name": "python3"
  },
  "language_info": {
   "codemirror_mode": {
    "name": "ipython",
    "version": 3
   },
   "file_extension": ".py",
   "mimetype": "text/x-python",
   "name": "python",
   "nbconvert_exporter": "python",
   "pygments_lexer": "ipython3",
   "version": "3.9.16"
  }
 },
 "nbformat": 4,
 "nbformat_minor": 5
}
