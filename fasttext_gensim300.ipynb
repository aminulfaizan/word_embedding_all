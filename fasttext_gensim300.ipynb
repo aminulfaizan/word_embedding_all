{
 "cells": [
  {
   "cell_type": "code",
   "execution_count": 1,
   "id": "189d2972",
   "metadata": {},
   "outputs": [],
   "source": [
    "#you need to import these first in your local machine or colab\n",
    "import pandas as pd\n",
    "import multiprocessing\n",
    "import numpy as np\n",
    "import json\n",
    "import string\n",
    "import re\n",
    "from pprint import pprint\n",
    "import pickle\n",
    "import fasttext"
   ]
  },
  {
   "cell_type": "code",
   "execution_count": 2,
   "id": "0585fdf8",
   "metadata": {},
   "outputs": [
    {
     "data": {
      "text/plain": [
       "str"
      ]
     },
     "execution_count": 2,
     "metadata": {},
     "output_type": "execute_result"
    }
   ],
   "source": [
    "#preprocessed file which i took in the same directory\n",
    "# i didn't provide the tokenize data for training the model but you may give the tokenize one\n",
    "corpus = 'processed_data_text.txt'\n",
    "type(corpus)"
   ]
  },
  {
   "cell_type": "code",
   "execution_count": 3,
   "id": "877c3aaf",
   "metadata": {},
   "outputs": [
    {
     "data": {
      "text/plain": [
       "'processed_data_text.txt'"
      ]
     },
     "execution_count": 3,
     "metadata": {},
     "output_type": "execute_result"
    }
   ],
   "source": [
    "corpus"
   ]
  },
  {
   "cell_type": "code",
   "execution_count": 4,
   "id": "00bf3881",
   "metadata": {},
   "outputs": [
    {
     "name": "stdout",
     "output_type": "stream",
     "text": [
      "Training time: 22733.27 seconds\n"
     ]
    }
   ],
   "source": [
    "import time\n",
    "#i have imported the time library for knowing the training time you can ignore it.\n",
    "# Start the timer\n",
    "start_time = time.time()\n",
    "\n",
    "# Train the FastText model\n",
    "model = fasttext.train_unsupervised(corpus,\n",
    "                model='skipgram',\n",
    "                minn=2,\n",
    "                maxn=6,\n",
    "                dim=300,\n",
    "                ws=5,\n",
    "                minCount=5,\n",
    "                neg=5,\n",
    "                thread=4)\n",
    "\n",
    "# Stop the timer and calculate the training time\n",
    "end_time = time.time()\n",
    "training_time = end_time - start_time\n",
    "print(f\"Training time: {training_time:.2f} seconds\")\n",
    "\n",
    "# Save the model into the directory\n",
    "model.save_model(\"fasttext_model300.bin\")\n"
   ]
  },
  {
   "cell_type": "code",
   "execution_count": 2,
   "id": "b6fecf56",
   "metadata": {},
   "outputs": [
    {
     "name": "stderr",
     "output_type": "stream",
     "text": [
      "Warning : `load_model` does not return WordVectorModel or SupervisedModel any more, but a `FastText` object which is very similar.\n"
     ]
    }
   ],
   "source": [
    "# now you can load your pre-trained FastText model\n",
    "model = fasttext.load_model('fasttext_model300.bin')"
   ]
  },
  {
   "cell_type": "code",
   "execution_count": 3,
   "id": "dad10666",
   "metadata": {},
   "outputs": [
    {
     "data": {
      "text/plain": [
       "[(0.7229053974151611, 'প্রধানপ্রধান'),\n",
       " (0.6899613738059998, 'করেনপ্রধান'),\n",
       " (0.6632545590400696, 'প্র্রধান'),\n",
       " (0.6529766321182251, 'নির্বাহীপ্রধান'),\n",
       " (0.6426807641983032, 'প্রধানে'),\n",
       " (0.6377645134925842, 'উইংপ্রধান'),\n",
       " (0.6376349329948425, 'প্রধা'),\n",
       " (0.6337491869926453, 'প্রধানী'),\n",
       " (0.6105127334594727, 'প্রধানই'),\n",
       " (0.6046245098114014, 'হয়েছেপ্রধান')]"
      ]
     },
     "execution_count": 3,
     "metadata": {},
     "output_type": "execute_result"
    }
   ],
   "source": [
    "#semantic analysis\n",
    "model.get_nearest_neighbors('প্রধান', k=10)"
   ]
  },
  {
   "cell_type": "code",
   "execution_count": 4,
   "id": "09558146",
   "metadata": {},
   "outputs": [
    {
     "data": {
      "text/plain": [
       "[(0.7082414031028748, 'ছেলে'),\n",
       " (0.6386549472808838, 'বাবা'),\n",
       " (0.6058197021484375, 'চাচা'),\n",
       " (0.5877761244773865, 'স্ত্রী'),\n",
       " (0.5851420760154724, 'ছেলেএ')]"
      ]
     },
     "execution_count": 4,
     "metadata": {},
     "output_type": "execute_result"
    }
   ],
   "source": [
    "#syntactic analysis or doing math with words\n",
    "# or you may say it analogy task where the words are remain like, word1 = positive, word2= negative, word3 = positive\n",
    "# or you may say if \"রাজা\" = \"রানি\" then \"মেয়ে\" = ?\n",
    "model.get_analogies(\"রাজা\",\"রানি\", \"মেয়ে\", k=5)"
   ]
  },
  {
   "cell_type": "code",
   "execution_count": 5,
   "id": "1ff2e81c",
   "metadata": {},
   "outputs": [
    {
     "data": {
      "text/plain": [
       "[(0.7639610767364502, 'মেয়ে'),\n",
       " (0.7502034306526184, 'স্ত্রী'),\n",
       " (0.6657811999320984, 'ছেলের'),\n",
       " (0.6593964695930481, 'ছেলেতার'),\n",
       " (0.6577081084251404, 'স্বামী')]"
      ]
     },
     "execution_count": 5,
     "metadata": {},
     "output_type": "execute_result"
    }
   ],
   "source": [
    "model.get_analogies(\"শিক্ষিকা\",\"শিক্ষক\", \"ছেলে\", k=5)"
   ]
  },
  {
   "cell_type": "code",
   "execution_count": 6,
   "id": "586d4a67",
   "metadata": {},
   "outputs": [
    {
     "data": {
      "text/plain": [
       "[(0.6067126989364624, 'ইসলামাবাদেও'),\n",
       " (0.606465220451355, 'ইসলামাবাদকে'),\n",
       " (0.5948108434677124, 'ইসলামাবাদও'),\n",
       " (0.5918161869049072, 'দিল্লিইসলামাবাদ'),\n",
       " (0.5848156213760376, 'ইসলামাবাদের'),\n",
       " (0.5810400247573853, 'ইসলামাবাদে'),\n",
       " (0.5807469487190247, 'পাকিস্তান'),\n",
       " (0.5646932125091553, 'ইসলামাবাদি'),\n",
       " (0.5549359917640686, 'পাকিস্তানকে'),\n",
       " (0.5508943200111389, 'পাকিস্তানও')]"
      ]
     },
     "execution_count": 6,
     "metadata": {},
     "output_type": "execute_result"
    }
   ],
   "source": [
    "model.get_analogies(\"বাংলাদেশ\",\"ঢাকা\", \"ইসলামাবাদ\", k=10)"
   ]
  },
  {
   "cell_type": "code",
   "execution_count": null,
   "id": "d7788809",
   "metadata": {},
   "outputs": [],
   "source": []
  }
 ],
 "metadata": {
  "kernelspec": {
   "display_name": "Python 3 (ipykernel)",
   "language": "python",
   "name": "python3"
  },
  "language_info": {
   "codemirror_mode": {
    "name": "ipython",
    "version": 3
   },
   "file_extension": ".py",
   "mimetype": "text/x-python",
   "name": "python",
   "nbconvert_exporter": "python",
   "pygments_lexer": "ipython3",
   "version": "3.9.16"
  }
 },
 "nbformat": 4,
 "nbformat_minor": 5
}
